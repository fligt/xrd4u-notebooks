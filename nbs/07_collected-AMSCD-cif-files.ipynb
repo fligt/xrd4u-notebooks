{
 "cells": [
  {
   "cell_type": "markdown",
   "id": "2b29a0f0-380b-44e0-bcc6-e2d47d8c36c2",
   "metadata": {},
   "source": [
    "# Collected AMSCD cif files "
   ]
  },
  {
   "cell_type": "code",
   "execution_count": 1,
   "id": "fb6923e5-b7e5-4fa6-ae3e-e4bb03ed0b46",
   "metadata": {
    "execution": {
     "iopub.execute_input": "2025-03-26T08:25:21.607236Z",
     "iopub.status.busy": "2025-03-26T08:25:21.606918Z",
     "iopub.status.idle": "2025-03-26T08:25:21.878790Z",
     "shell.execute_reply": "2025-03-26T08:25:21.878166Z",
     "shell.execute_reply.started": "2025-03-26T08:25:21.607204Z"
    }
   },
   "outputs": [],
   "source": [
    "import polars as pl\n",
    "import re\n",
    "import os \n",
    "from glob import glob\n",
    "import shutil"
   ]
  },
  {
   "cell_type": "code",
   "execution_count": 2,
   "id": "226cb53d-7e25-484f-893d-36b3e0f3a7bc",
   "metadata": {
    "execution": {
     "iopub.execute_input": "2025-03-26T08:25:27.079910Z",
     "iopub.status.busy": "2025-03-26T08:25:27.079664Z",
     "iopub.status.idle": "2025-03-26T08:25:27.082994Z",
     "shell.execute_reply": "2025-03-26T08:25:27.082497Z",
     "shell.execute_reply.started": "2025-03-26T08:25:27.079888Z"
    }
   },
   "outputs": [],
   "source": [
    "os.chdir('..')"
   ]
  },
  {
   "cell_type": "markdown",
   "id": "4318282c-12a1-46a3-9753-cd96762c0cd3",
   "metadata": {},
   "source": [
    "## Downloading cif from AMSCD (skip)"
   ]
  },
  {
   "cell_type": "code",
   "execution_count": 3,
   "id": "8130d5f3-6546-4b99-a4d2-303a130c0080",
   "metadata": {
    "execution": {
     "iopub.execute_input": "2025-03-26T08:25:30.264885Z",
     "iopub.status.busy": "2025-03-26T08:25:30.264643Z",
     "iopub.status.idle": "2025-03-26T08:25:30.950125Z",
     "shell.execute_reply": "2025-03-26T08:25:30.949850Z",
     "shell.execute_reply.started": "2025-03-26T08:25:30.264865Z"
    }
   },
   "outputs": [
    {
     "name": "stdout",
     "output_type": "stream",
     "text": [
      "shape: (31, 5)\n",
      "┌────────────────────┬───────┬──────────┬─────────────┬─────────┐\n",
      "│ Chemical formula   ┆ amcsd ┆ ICDD     ┆ Space group ┆ CIF     │\n",
      "│ ---                ┆ ---   ┆ ---      ┆ ---         ┆ ---     │\n",
      "│ str                ┆ i64   ┆ str      ┆ str         ┆ i64     │\n",
      "╞════════════════════╪═══════╪══════════╪═════════════╪═════════╡\n",
      "│ CdS                ┆ 11540 ┆ null     ┆ P 63 m d    ┆ 1010154 │\n",
      "│ CdS                ┆ 11540 ┆ null     ┆ F4 3 m      ┆ 1011251 │\n",
      "│ CdS                ┆ 11540 ┆ null     ┆ F4 3 m      ┆ 1011260 │\n",
      "│ Cd1-xZnxS          ┆ 11540 ┆ null     ┆ F4 3 m      ┆ 1011260 │\n",
      "│ CdC2O4             ┆ 11540 ┆ 014-0712 ┆ F4 3 m      ┆ 2012182 │\n",
      "│ CdCO3              ┆ 11540 ┆ 014-0712 ┆ F4 3 m      ┆ 1011341 │\n",
      "│ CdSO4              ┆ 11540 ┆ 014-0712 ┆ F4 3 m      ┆ 1533737 │\n",
      "│ CdSO4.H2O          ┆ 11540 ┆ 014-0712 ┆ F4 3 m      ┆ 2241132 │\n",
      "│ (CdSO4)3.8H2O      ┆ 11540 ┆ 014-0712 ┆ F4 3 m      ┆ 1010534 │\n",
      "│ (NH4)2Cd2(SO4)3    ┆ 11540 ┆ 014-0712 ┆ F4 3 m      ┆ 1010534 │\n",
      "│ Cd2(OH)2SO4        ┆ 11540 ┆ 014-0712 ┆ F4 3 m      ┆ 2107256 │\n",
      "│  2 CdSO3*3H2O      ┆ 11540 ┆ 014-0712 ┆ F4 3 m      ┆ 1541695 │\n",
      "│ CdCl2              ┆ 11540 ┆ 014-0712 ┆ F4 3 m      ┆ 1011332 │\n",
      "│ CdCl2*H2O          ┆ 11540 ┆ 014-0712 ┆ F4 3 m      ┆ 2106702 │\n",
      "│ CdCl2*2.5H2O       ┆ 11540 ┆ 014-0712 ┆ F4 3 m      ┆ 2106551 │\n",
      "│ CdOHCl             ┆ 11540 ┆ 014-0712 ┆ F4 3 m      ┆ 1010263 │\n",
      "│ CdOHCl             ┆ 11540 ┆ 014-0712 ┆ F4 3 m      ┆ 1520991 │\n",
      "│ Cd2(OH)3Cl         ┆ 11540 ┆ 014-0712 ┆ F4 3 m      ┆ 1535005 │\n",
      "│ Cd4SO4(OH)6*1.5H2O ┆ 11540 ┆ 014-0712 ┆ F4 3 m      ┆ 1525852 │\n",
      "│ PbSO4              ┆ 5558  ┆ 014-0712 ┆ F4 3 m      ┆ 1525852 │\n",
      "│ PbCO3              ┆ 5558  ┆ 014-0712 ┆ F4 3 m      ┆ 1525852 │\n",
      "│ 2PbCO3.Pb(OH)2     ┆ 5558  ┆ 014-0712 ┆ F4 3 m      ┆ 1525852 │\n",
      "│ ZnS                ┆ 5558  ┆ 014-0712 ┆ F4 3 m      ┆ 1525852 │\n",
      "│ ZnSO4              ┆ 5558  ┆ 014-0712 ┆ F4 3 m      ┆ 1525852 │\n",
      "│ ZnC2O4.2H2O        ┆ 5558  ┆ 014-0712 ┆ F4 3 m      ┆ 1525852 │\n",
      "│ MgCO3              ┆ 5558  ┆ 014-0712 ┆ F4 3 m      ┆ 1525852 │\n",
      "│ CaMg(CO3)2         ┆ 5558  ┆ 014-0712 ┆ F4 3 m      ┆ 1525852 │\n",
      "│ CaCO3              ┆ 5558  ┆ 014-0712 ┆ F4 3 m      ┆ 1525852 │\n",
      "│ BaSO4              ┆ 5558  ┆ 014-0712 ┆ F4 3 m      ┆ 1525852 │\n",
      "│ BaSO4.ZnS          ┆ 5558  ┆ 014-0712 ┆ F4 3 m      ┆ 1525852 │\n",
      "│ Na2SO4             ┆ 5558  ┆ 014-0712 ┆ F4 3 m      ┆ 1525852 │\n",
      "└────────────────────┴───────┴──────────┴─────────────┴─────────┘\n"
     ]
    }
   ],
   "source": [
    "df = pl.read_excel('./data/AMCSD-data/CIF overzicht fases.xlsx')\n",
    "df = df.fill_null(strategy='forward')\n",
    "\n",
    "with pl.Config(tbl_rows=100): \n",
    "    print(df)"
   ]
  },
  {
   "cell_type": "code",
   "execution_count": 4,
   "id": "cfd3d944-6f65-4e24-a5a5-d8040b0147ac",
   "metadata": {
    "execution": {
     "iopub.execute_input": "2025-03-26T08:25:34.296185Z",
     "iopub.status.busy": "2025-03-26T08:25:34.295872Z",
     "iopub.status.idle": "2025-03-26T08:25:34.299622Z",
     "shell.execute_reply": "2025-03-26T08:25:34.299073Z",
     "shell.execute_reply.started": "2025-03-26T08:25:34.296164Z"
    }
   },
   "outputs": [],
   "source": [
    "phases = df.select('Chemical formula').to_numpy()[:, 0]"
   ]
  },
  {
   "cell_type": "code",
   "execution_count": 5,
   "id": "c195b658-4e6e-4604-9836-fa712b2fc41a",
   "metadata": {
    "execution": {
     "iopub.execute_input": "2025-03-26T08:25:35.078336Z",
     "iopub.status.busy": "2025-03-26T08:25:35.078088Z",
     "iopub.status.idle": "2025-03-26T08:25:35.081803Z",
     "shell.execute_reply": "2025-03-26T08:25:35.081207Z",
     "shell.execute_reply.started": "2025-03-26T08:25:35.078315Z"
    }
   },
   "outputs": [
    {
     "name": "stdout",
     "output_type": "stream",
     "text": [
      "['CdS' 'CdS' 'CdS' 'Cd1-xZnxS' 'CdC2O4' 'CdCO3' 'CdSO4' 'CdSO4.H2O'\n",
      " '(CdSO4)3.8H2O' '(NH4)2Cd2(SO4)3' 'Cd2(OH)2SO4' '\\xa02 CdSO3*3H2O'\n",
      " 'CdCl2' 'CdCl2*H2O' 'CdCl2*2.5H2O' 'CdOHCl' 'CdOHCl' 'Cd2(OH)3Cl'\n",
      " 'Cd4SO4(OH)6*1.5H2O' 'PbSO4' 'PbCO3' '2PbCO3.Pb(OH)2' 'ZnS' 'ZnSO4'\n",
      " 'ZnC2O4.2H2O' 'MgCO3' 'CaMg(CO3)2' 'CaCO3' 'BaSO4' 'BaSO4.ZnS' 'Na2SO4']\n"
     ]
    }
   ],
   "source": [
    "print(phases)"
   ]
  },
  {
   "cell_type": "code",
   "execution_count": 6,
   "id": "2b806736-c2b5-4a2c-bf93-54512a736783",
   "metadata": {
    "execution": {
     "iopub.execute_input": "2025-03-24T13:20:31.230724Z",
     "iopub.status.busy": "2025-03-24T13:20:31.230476Z",
     "iopub.status.idle": "2025-03-24T13:20:31.233948Z",
     "shell.execute_reply": "2025-03-24T13:20:31.233487Z",
     "shell.execute_reply.started": "2025-03-24T13:20:31.230703Z"
    }
   },
   "outputs": [],
   "source": [
    "elems = ['Cd S', 'Cd Zn S', 'Cd C O', 'Cd S O', 'Cd S H O', 'N H Cd S O', 'Cd O H S', 'Cd Cl', 'Cd Cl H O',  'Cd S O H', 'Pb S O', \n",
    "         'Pb C O', 'Pb C O H', 'Zn S', 'Zn S O', 'Zn C O H', 'Mg C O', 'Ca Mg C O', 'Ca C O', 'Ba S O', 'Ba S O Zn S', 'Na S O']"
   ]
  },
  {
   "cell_type": "code",
   "execution_count": 4,
   "id": "574b657e-c7ec-4e7e-bfa9-a38de9bbff71",
   "metadata": {
    "execution": {
     "iopub.execute_input": "2025-01-27T09:24:33.708396Z",
     "iopub.status.busy": "2025-01-27T09:24:33.708149Z",
     "iopub.status.idle": "2025-01-27T09:24:33.714598Z",
     "shell.execute_reply": "2025-01-27T09:24:33.714064Z",
     "shell.execute_reply.started": "2025-01-27T09:24:33.708376Z"
    }
   },
   "outputs": [
    {
     "data": {
      "text/plain": [
       "22"
      ]
     },
     "execution_count": 4,
     "metadata": {},
     "output_type": "execute_result"
    }
   ],
   "source": [
    "len(elems)"
   ]
  },
  {
   "cell_type": "code",
   "execution_count": 7,
   "id": "521ae1b7-0167-4070-ac08-b6c29ac610b8",
   "metadata": {
    "execution": {
     "iopub.execute_input": "2025-03-24T13:20:56.576382Z",
     "iopub.status.busy": "2025-03-24T13:20:56.576140Z",
     "iopub.status.idle": "2025-03-24T13:20:56.579963Z",
     "shell.execute_reply": "2025-03-24T13:20:56.579509Z",
     "shell.execute_reply.started": "2025-03-24T13:20:56.576362Z"
    }
   },
   "outputs": [
    {
     "name": "stdout",
     "output_type": "stream",
     "text": [
      "(Cd,S)-\n",
      "(Cd,Zn,S)-\n",
      "(Cd,C,O)-\n",
      "(Cd,S,O)-\n",
      "(Cd,S,H,O)-\n",
      "(N,H,Cd,S,O)-\n",
      "(Cd,O,H,S)-\n",
      "(Cd,Cl)-\n",
      "(Cd,Cl,H,O)-\n",
      "(Cd,S,O,H)-\n",
      "(Pb,S,O)-\n",
      "(Pb,C,O)-\n",
      "(Pb,C,O,H)-\n",
      "(Zn,S)-\n",
      "(Zn,S,O)-\n",
      "(Zn,C,O,H)-\n",
      "(Mg,C,O)-\n",
      "(Ca,Mg,C,O)-\n",
      "(Ca,C,O)-\n",
      "(Ba,S,O)-\n",
      "(Ba,S,O,Zn,S)-\n",
      "(Na,S,O)-\n"
     ]
    }
   ],
   "source": [
    "queries = []\n",
    "\n",
    "for e in elems: \n",
    "    e = re.sub('\\\\s+', ',', e)\n",
    "    e = f'({e})-'\n",
    "    queries.append(e)\n",
    "    print(e)\n",
    "   "
   ]
  },
  {
   "cell_type": "code",
   "execution_count": 22,
   "id": "178d394b-51c7-4af8-8d08-ec0c10e01a6b",
   "metadata": {
    "execution": {
     "iopub.execute_input": "2025-03-26T08:45:58.187698Z",
     "iopub.status.busy": "2025-03-26T08:45:58.187353Z",
     "iopub.status.idle": "2025-03-26T08:45:58.274204Z",
     "shell.execute_reply": "2025-03-26T08:45:58.273644Z",
     "shell.execute_reply.started": "2025-03-26T08:45:58.187666Z"
    }
   },
   "outputs": [
    {
     "data": {
      "text/plain": [
       "['data/AMCSD-data/amscd-zip-files/(CdSO4)3(H2O)8_1010534.cif',\n",
       " 'data/AMCSD-data/amscd-zip-files/cFLJRMJVuNChxoL/Na2 O3 S\\r_0017434.cif',\n",
       " 'data/AMCSD-data/amscd-zip-files/cFLJRMJVuNChxoL/Na2 O4 S\\r_0017433.cif',\n",
       " 'data/AMCSD-data/amscd-zip-files/cFLJRMJVuNChxoL/Thenardite_0005113.cif',\n",
       " 'data/AMCSD-data/amscd-zip-files/cFLJRMJVuNChxoL/Thenardite_0018059.cif',\n",
       " 'data/AMCSD-data/amscd-zip-files/cif/CadmiumChlorideHydrated25_2106551.cif',\n",
       " 'data/AMCSD-data/amscd-zip-files/cif/CadmiumChlorideHydrated_2106702.cif',\n",
       " 'data/AMCSD-data/amscd-zip-files/cif/cadmiumHydroxyChloride_1010263.cif',\n",
       " 'data/AMCSD-data/amscd-zip-files/cif/CadmiumHydroxySulphate_2107256.cif',\n",
       " 'data/AMCSD-data/amscd-zip-files/cif/CadmiumOxalate_2012182.cif',\n",
       " 'data/AMCSD-data/amscd-zip-files/cif/CadmiumSulphateHydroxyHydrated_1525852.cif',\n",
       " 'data/AMCSD-data/amscd-zip-files/cif/CadmiumSulphateMonohydrated_2241132.cif',\n",
       " 'data/AMCSD-data/amscd-zip-files/cif/CadmiumSulphate_1533737.cif',\n",
       " 'data/AMCSD-data/amscd-zip-files/cif/CadmiumSulphiteHydrated_1541695.cif',\n",
       " 'data/AMCSD-data/amscd-zip-files/DpiAowAHYvizXVx/Glikinite_0020988.cif',\n",
       " 'data/AMCSD-data/amscd-zip-files/DpiAowAHYvizXVx/Zinkosite_0009208.cif',\n",
       " 'data/AMCSD-data/amscd-zip-files/DpiAowAHYvizXVx/Zinkosite_0014620.cif',\n",
       " 'data/AMCSD-data/amscd-zip-files/ELVwjmUZsrProKj/Zincite_0005203.cif',\n",
       " 'data/AMCSD-data/amscd-zip-files/ELVwjmUZsrProKj/Zincite_0005204.cif',\n",
       " 'data/AMCSD-data/amscd-zip-files/ELVwjmUZsrProKj/Zincite_0005205.cif',\n",
       " 'data/AMCSD-data/amscd-zip-files/ELVwjmUZsrProKj/Zincite_0005206.cif',\n",
       " 'data/AMCSD-data/amscd-zip-files/ELVwjmUZsrProKj/Zincite_0011555.cif',\n",
       " 'data/AMCSD-data/amscd-zip-files/ELVwjmUZsrProKj/Zincite_0015176.cif',\n",
       " 'data/AMCSD-data/amscd-zip-files/ELVwjmUZsrProKj/Zincite_0018119.cif',\n",
       " 'data/AMCSD-data/amscd-zip-files/ELVwjmUZsrProKj/Zincite_0018120.cif',\n",
       " 'data/AMCSD-data/amscd-zip-files/EQHfGdQeIkNAKHJ/Calcite_0000585.cif',\n",
       " 'data/AMCSD-data/amscd-zip-files/EQHfGdQeIkNAKHJ/Calcite_0001327.cif',\n",
       " 'data/AMCSD-data/amscd-zip-files/EQHfGdQeIkNAKHJ/Calcite_0001328.cif',\n",
       " 'data/AMCSD-data/amscd-zip-files/EQHfGdQeIkNAKHJ/Calcite_0020835.cif',\n",
       " 'data/AMCSD-data/amscd-zip-files/EQHfGdQeIkNAKHJ/Dolomite_0000086.cif',\n",
       " 'data/AMCSD-data/amscd-zip-files/EQHfGdQeIkNAKHJ/Dolomite_0000108.cif',\n",
       " 'data/AMCSD-data/amscd-zip-files/EQHfGdQeIkNAKHJ/Dolomite_0000584.cif',\n",
       " 'data/AMCSD-data/amscd-zip-files/EQHfGdQeIkNAKHJ/Dolomite_0000904.cif',\n",
       " 'data/AMCSD-data/amscd-zip-files/EQHfGdQeIkNAKHJ/Dolomite_0000905.cif',\n",
       " 'data/AMCSD-data/amscd-zip-files/EQHfGdQeIkNAKHJ/Dolomite_0000906.cif',\n",
       " 'data/AMCSD-data/amscd-zip-files/EQHfGdQeIkNAKHJ/Dolomite_0001026.cif',\n",
       " 'data/AMCSD-data/amscd-zip-files/EQHfGdQeIkNAKHJ/Dolomite_0001027.cif',\n",
       " 'data/AMCSD-data/amscd-zip-files/EQHfGdQeIkNAKHJ/Dolomite_0001028.cif',\n",
       " 'data/AMCSD-data/amscd-zip-files/EQHfGdQeIkNAKHJ/Dolomite_0001029.cif',\n",
       " 'data/AMCSD-data/amscd-zip-files/EQHfGdQeIkNAKHJ/Dolomite_0001030.cif',\n",
       " 'data/AMCSD-data/amscd-zip-files/EQHfGdQeIkNAKHJ/Dolomite_0001031.cif',\n",
       " 'data/AMCSD-data/amscd-zip-files/EQHfGdQeIkNAKHJ/Dolomite_0001032.cif',\n",
       " 'data/AMCSD-data/amscd-zip-files/EQHfGdQeIkNAKHJ/Dolomite_0001033.cif',\n",
       " 'data/AMCSD-data/amscd-zip-files/EQHfGdQeIkNAKHJ/Dolomite_0001065.cif',\n",
       " 'data/AMCSD-data/amscd-zip-files/EQHfGdQeIkNAKHJ/Dolomite_0001453.cif',\n",
       " 'data/AMCSD-data/amscd-zip-files/EQHfGdQeIkNAKHJ/Dolomite_0001454.cif',\n",
       " 'data/AMCSD-data/amscd-zip-files/EQHfGdQeIkNAKHJ/Dolomite_0001455.cif',\n",
       " 'data/AMCSD-data/amscd-zip-files/EQHfGdQeIkNAKHJ/Dolomite_0001456.cif',\n",
       " 'data/AMCSD-data/amscd-zip-files/EQHfGdQeIkNAKHJ/Dolomite_0001457.cif',\n",
       " 'data/AMCSD-data/amscd-zip-files/EQHfGdQeIkNAKHJ/Dolomite_0003598.cif',\n",
       " 'data/AMCSD-data/amscd-zip-files/EQHfGdQeIkNAKHJ/Dolomite_0003599.cif',\n",
       " 'data/AMCSD-data/amscd-zip-files/EQHfGdQeIkNAKHJ/Dolomite_0003600.cif',\n",
       " 'data/AMCSD-data/amscd-zip-files/EQHfGdQeIkNAKHJ/Dolomite_0003601.cif',\n",
       " 'data/AMCSD-data/amscd-zip-files/EQHfGdQeIkNAKHJ/Dolomite_0003602.cif',\n",
       " 'data/AMCSD-data/amscd-zip-files/EQHfGdQeIkNAKHJ/Dolomite_0003603.cif',\n",
       " 'data/AMCSD-data/amscd-zip-files/EQHfGdQeIkNAKHJ/Dolomite_0003604.cif',\n",
       " 'data/AMCSD-data/amscd-zip-files/EQHfGdQeIkNAKHJ/Dolomite_0003605.cif',\n",
       " 'data/AMCSD-data/amscd-zip-files/EQHfGdQeIkNAKHJ/Dolomite_0003606.cif',\n",
       " 'data/AMCSD-data/amscd-zip-files/EQHfGdQeIkNAKHJ/Dolomite_0003607.cif',\n",
       " 'data/AMCSD-data/amscd-zip-files/EQHfGdQeIkNAKHJ/Dolomite_0003608.cif',\n",
       " 'data/AMCSD-data/amscd-zip-files/EQHfGdQeIkNAKHJ/Dolomite_0003609.cif',\n",
       " 'data/AMCSD-data/amscd-zip-files/EQHfGdQeIkNAKHJ/Dolomite_0003610.cif',\n",
       " 'data/AMCSD-data/amscd-zip-files/EQHfGdQeIkNAKHJ/Dolomite_0003611.cif',\n",
       " 'data/AMCSD-data/amscd-zip-files/EQHfGdQeIkNAKHJ/Dolomite_0003612.cif',\n",
       " 'data/AMCSD-data/amscd-zip-files/EQHfGdQeIkNAKHJ/Dolomite_0003613.cif',\n",
       " 'data/AMCSD-data/amscd-zip-files/EQHfGdQeIkNAKHJ/Dolomite_0003614.cif',\n",
       " 'data/AMCSD-data/amscd-zip-files/EQHfGdQeIkNAKHJ/Dolomite_0003615.cif',\n",
       " 'data/AMCSD-data/amscd-zip-files/EQHfGdQeIkNAKHJ/Dolomite_0003616.cif',\n",
       " 'data/AMCSD-data/amscd-zip-files/EQHfGdQeIkNAKHJ/Dolomite_0003617.cif',\n",
       " 'data/AMCSD-data/amscd-zip-files/EQHfGdQeIkNAKHJ/Dolomite_0003618.cif',\n",
       " 'data/AMCSD-data/amscd-zip-files/EQHfGdQeIkNAKHJ/Dolomite_0003619.cif',\n",
       " 'data/AMCSD-data/amscd-zip-files/EQHfGdQeIkNAKHJ/Dolomite_0003620.cif',\n",
       " 'data/AMCSD-data/amscd-zip-files/EQHfGdQeIkNAKHJ/Dolomite_0006026.cif',\n",
       " 'data/AMCSD-data/amscd-zip-files/EQHfGdQeIkNAKHJ/Dolomite_0006027.cif',\n",
       " 'data/AMCSD-data/amscd-zip-files/EQHfGdQeIkNAKHJ/Dolomite_0006028.cif',\n",
       " 'data/AMCSD-data/amscd-zip-files/EQHfGdQeIkNAKHJ/Dolomite_0006029.cif',\n",
       " 'data/AMCSD-data/amscd-zip-files/EQHfGdQeIkNAKHJ/Dolomite_0006030.cif',\n",
       " 'data/AMCSD-data/amscd-zip-files/EQHfGdQeIkNAKHJ/Dolomite_0006031.cif',\n",
       " 'data/AMCSD-data/amscd-zip-files/EQHfGdQeIkNAKHJ/Huntite_0001006.cif',\n",
       " 'data/AMCSD-data/amscd-zip-files/kDKlcRzwudYvXvX/Na2 O3 S\\r_0017434.cif',\n",
       " 'data/AMCSD-data/amscd-zip-files/kDKlcRzwudYvXvX/Na2 O4 S\\r_0017433.cif',\n",
       " 'data/AMCSD-data/amscd-zip-files/kDKlcRzwudYvXvX/Thenardite_0005113.cif',\n",
       " 'data/AMCSD-data/amscd-zip-files/kDKlcRzwudYvXvX/Thenardite_0018059.cif',\n",
       " 'data/AMCSD-data/amscd-zip-files/lDVyJBpuPqBRNLP/Aragonite_0000233.cif',\n",
       " 'data/AMCSD-data/amscd-zip-files/lDVyJBpuPqBRNLP/Aragonite_0000236.cif',\n",
       " 'data/AMCSD-data/amscd-zip-files/lDVyJBpuPqBRNLP/Aragonite_0006300.cif',\n",
       " 'data/AMCSD-data/amscd-zip-files/lDVyJBpuPqBRNLP/Aragonite_0006301.cif',\n",
       " 'data/AMCSD-data/amscd-zip-files/lDVyJBpuPqBRNLP/Aragonite_0006302.cif',\n",
       " 'data/AMCSD-data/amscd-zip-files/lDVyJBpuPqBRNLP/Aragonite_0017827.cif',\n",
       " 'data/AMCSD-data/amscd-zip-files/lDVyJBpuPqBRNLP/Aragonite_0017828.cif',\n",
       " 'data/AMCSD-data/amscd-zip-files/lDVyJBpuPqBRNLP/Aragonite_0017829.cif',\n",
       " 'data/AMCSD-data/amscd-zip-files/lDVyJBpuPqBRNLP/Aragonite_0017830.cif',\n",
       " 'data/AMCSD-data/amscd-zip-files/lDVyJBpuPqBRNLP/Aragonite_0017831.cif',\n",
       " 'data/AMCSD-data/amscd-zip-files/lDVyJBpuPqBRNLP/Aragonite_0017832.cif',\n",
       " 'data/AMCSD-data/amscd-zip-files/lDVyJBpuPqBRNLP/Aragonite_0017833.cif',\n",
       " 'data/AMCSD-data/amscd-zip-files/lDVyJBpuPqBRNLP/Aragonite_0017834.cif',\n",
       " 'data/AMCSD-data/amscd-zip-files/lDVyJBpuPqBRNLP/Aragonite_0017835.cif',\n",
       " 'data/AMCSD-data/amscd-zip-files/lDVyJBpuPqBRNLP/Aragonite_0017836.cif',\n",
       " 'data/AMCSD-data/amscd-zip-files/lDVyJBpuPqBRNLP/Aragonite_0017837.cif',\n",
       " 'data/AMCSD-data/amscd-zip-files/lDVyJBpuPqBRNLP/Aragonite_0017838.cif',\n",
       " 'data/AMCSD-data/amscd-zip-files/lDVyJBpuPqBRNLP/Aragonite_0017839.cif',\n",
       " 'data/AMCSD-data/amscd-zip-files/lDVyJBpuPqBRNLP/Aragonite_0017840.cif',\n",
       " 'data/AMCSD-data/amscd-zip-files/lDVyJBpuPqBRNLP/Aragonite_0017841.cif',\n",
       " 'data/AMCSD-data/amscd-zip-files/lDVyJBpuPqBRNLP/Aragonite_0017842.cif',\n",
       " 'data/AMCSD-data/amscd-zip-files/lDVyJBpuPqBRNLP/Aragonite_0017843.cif',\n",
       " 'data/AMCSD-data/amscd-zip-files/lDVyJBpuPqBRNLP/Aragonite_0017844.cif',\n",
       " 'data/AMCSD-data/amscd-zip-files/lDVyJBpuPqBRNLP/Aragonite_0017845.cif',\n",
       " 'data/AMCSD-data/amscd-zip-files/lDVyJBpuPqBRNLP/Aragonite_0017846.cif',\n",
       " 'data/AMCSD-data/amscd-zip-files/lDVyJBpuPqBRNLP/Aragonite_0017847.cif',\n",
       " 'data/AMCSD-data/amscd-zip-files/lDVyJBpuPqBRNLP/Aragonite_0017848.cif',\n",
       " 'data/AMCSD-data/amscd-zip-files/lDVyJBpuPqBRNLP/Calcite_0000098.cif',\n",
       " 'data/AMCSD-data/amscd-zip-files/lDVyJBpuPqBRNLP/Calcite_0000984.cif',\n",
       " 'data/AMCSD-data/amscd-zip-files/lDVyJBpuPqBRNLP/Calcite_0000985.cif',\n",
       " 'data/AMCSD-data/amscd-zip-files/lDVyJBpuPqBRNLP/Calcite_0000986.cif',\n",
       " 'data/AMCSD-data/amscd-zip-files/lDVyJBpuPqBRNLP/Calcite_0000987.cif',\n",
       " 'data/AMCSD-data/amscd-zip-files/lDVyJBpuPqBRNLP/Calcite_0000988.cif',\n",
       " 'data/AMCSD-data/amscd-zip-files/lDVyJBpuPqBRNLP/Calcite_0000989.cif',\n",
       " 'data/AMCSD-data/amscd-zip-files/lDVyJBpuPqBRNLP/Calcite_0008879.cif',\n",
       " 'data/AMCSD-data/amscd-zip-files/lDVyJBpuPqBRNLP/Calcite_0009873.cif',\n",
       " 'data/AMCSD-data/amscd-zip-files/lDVyJBpuPqBRNLP/Calcite_0009890.cif',\n",
       " 'data/AMCSD-data/amscd-zip-files/lDVyJBpuPqBRNLP/Calcite_0012867.cif',\n",
       " 'data/AMCSD-data/amscd-zip-files/lDVyJBpuPqBRNLP/Calcite_0012868.cif',\n",
       " 'data/AMCSD-data/amscd-zip-files/lDVyJBpuPqBRNLP/Calcite_0017593.cif',\n",
       " 'data/AMCSD-data/amscd-zip-files/lDVyJBpuPqBRNLP/Calcite_0017650.cif',\n",
       " 'data/AMCSD-data/amscd-zip-files/lDVyJBpuPqBRNLP/Calcite_0017849.cif',\n",
       " 'data/AMCSD-data/amscd-zip-files/lDVyJBpuPqBRNLP/Calcite_0017850.cif',\n",
       " 'data/AMCSD-data/amscd-zip-files/lDVyJBpuPqBRNLP/Calcite_0017851.cif',\n",
       " 'data/AMCSD-data/amscd-zip-files/lDVyJBpuPqBRNLP/Calcite_0017852.cif',\n",
       " 'data/AMCSD-data/amscd-zip-files/lDVyJBpuPqBRNLP/Calcite_0017853.cif',\n",
       " 'data/AMCSD-data/amscd-zip-files/lDVyJBpuPqBRNLP/Calcite_0017854.cif',\n",
       " 'data/AMCSD-data/amscd-zip-files/lDVyJBpuPqBRNLP/Calcite_0017855.cif',\n",
       " 'data/AMCSD-data/amscd-zip-files/lDVyJBpuPqBRNLP/Calcite_0017856.cif',\n",
       " 'data/AMCSD-data/amscd-zip-files/lDVyJBpuPqBRNLP/Calcite_0017857.cif',\n",
       " 'data/AMCSD-data/amscd-zip-files/lDVyJBpuPqBRNLP/Calcite_0017858.cif',\n",
       " 'data/AMCSD-data/amscd-zip-files/lDVyJBpuPqBRNLP/Calcite_0017859.cif',\n",
       " 'data/AMCSD-data/amscd-zip-files/lDVyJBpuPqBRNLP/Calcite_0017860.cif',\n",
       " 'data/AMCSD-data/amscd-zip-files/lDVyJBpuPqBRNLP/Calcite_0017861.cif',\n",
       " 'data/AMCSD-data/amscd-zip-files/lDVyJBpuPqBRNLP/Calcite_0017862.cif',\n",
       " 'data/AMCSD-data/amscd-zip-files/lDVyJBpuPqBRNLP/Calcite_0017863.cif',\n",
       " 'data/AMCSD-data/amscd-zip-files/lDVyJBpuPqBRNLP/Calcite_0017864.cif',\n",
       " 'data/AMCSD-data/amscd-zip-files/lDVyJBpuPqBRNLP/Calcite_0017865.cif',\n",
       " 'data/AMCSD-data/amscd-zip-files/lDVyJBpuPqBRNLP/Calcite_0017866.cif',\n",
       " 'data/AMCSD-data/amscd-zip-files/lDVyJBpuPqBRNLP/Calcite_0017867.cif',\n",
       " 'data/AMCSD-data/amscd-zip-files/lDVyJBpuPqBRNLP/Calcite_0017868.cif',\n",
       " 'data/AMCSD-data/amscd-zip-files/lDVyJBpuPqBRNLP/Calcite_0017869.cif',\n",
       " 'data/AMCSD-data/amscd-zip-files/lDVyJBpuPqBRNLP/Calcite_0017889.cif',\n",
       " 'data/AMCSD-data/amscd-zip-files/lDVyJBpuPqBRNLP/Calcite_0018895.cif',\n",
       " 'data/AMCSD-data/amscd-zip-files/lDVyJBpuPqBRNLP/Calcite_0018896.cif',\n",
       " 'data/AMCSD-data/amscd-zip-files/lDVyJBpuPqBRNLP/Vaterite_0004854.cif',\n",
       " 'data/AMCSD-data/amscd-zip-files/lDVyJBpuPqBRNLP/Vaterite_0009279.cif',\n",
       " 'data/AMCSD-data/amscd-zip-files/lDVyJBpuPqBRNLP/Vaterite_0019019.cif',\n",
       " 'data/AMCSD-data/amscd-zip-files/lDVyJBpuPqBRNLP/Vaterite_0019138.cif',\n",
       " 'data/AMCSD-data/amscd-zip-files/lDVyJBpuPqBRNLP/Vaterite_0019139.cif',\n",
       " 'data/AMCSD-data/amscd-zip-files/lDVyJBpuPqBRNLP/Vaterite_0019140.cif',\n",
       " 'data/AMCSD-data/amscd-zip-files/lDVyJBpuPqBRNLP/Vaterite_0019141.cif',\n",
       " 'data/AMCSD-data/amscd-zip-files/lDVyJBpuPqBRNLP/Vaterite_0019865.cif',\n",
       " 'data/AMCSD-data/amscd-zip-files/lDVyJBpuPqBRNLP/Vaterite_0019866.cif',\n",
       " 'data/AMCSD-data/amscd-zip-files/lDVyJBpuPqBRNLP/Vaterite_0019867.cif',\n",
       " 'data/AMCSD-data/amscd-zip-files/lDVyJBpuPqBRNLP/Vaterite_0019868.cif',\n",
       " 'data/AMCSD-data/amscd-zip-files/lDVyJBpuPqBRNLP/Vaterite_0019869.cif',\n",
       " 'data/AMCSD-data/amscd-zip-files/lDVyJBpuPqBRNLP/Vaterite_0019870.cif',\n",
       " 'data/AMCSD-data/amscd-zip-files/lDVyJBpuPqBRNLP/Vaterite_0019871.cif',\n",
       " 'data/AMCSD-data/amscd-zip-files/lDVyJBpuPqBRNLP/Vaterite_0019872.cif',\n",
       " 'data/AMCSD-data/amscd-zip-files/lLSkXBJYlJmPZmZ/Sphalerite_0000110.cif',\n",
       " 'data/AMCSD-data/amscd-zip-files/lLSkXBJYlJmPZmZ/Wurtzite-10H_0000088.cif',\n",
       " 'data/AMCSD-data/amscd-zip-files/lLSkXBJYlJmPZmZ/Wurtzite-15R_0015414.cif',\n",
       " 'data/AMCSD-data/amscd-zip-files/lLSkXBJYlJmPZmZ/Wurtzite-2H_0010082.cif',\n",
       " 'data/AMCSD-data/amscd-zip-files/lLSkXBJYlJmPZmZ/Wurtzite-2H_0010492.cif',\n",
       " 'data/AMCSD-data/amscd-zip-files/lLSkXBJYlJmPZmZ/Wurtzite-2H_0010493.cif',\n",
       " 'data/AMCSD-data/amscd-zip-files/lLSkXBJYlJmPZmZ/Wurtzite-2H_0011556.cif',\n",
       " 'data/AMCSD-data/amscd-zip-files/lLSkXBJYlJmPZmZ/Wurtzite-2H_0014998.cif',\n",
       " 'data/AMCSD-data/amscd-zip-files/lLSkXBJYlJmPZmZ/Wurtzite-2H_0015169.cif',\n",
       " 'data/AMCSD-data/amscd-zip-files/lLSkXBJYlJmPZmZ/Wurtzite-4H_0005544.cif',\n",
       " 'data/AMCSD-data/amscd-zip-files/lLSkXBJYlJmPZmZ/Wurtzite-4H_0015413.cif',\n",
       " 'data/AMCSD-data/amscd-zip-files/lLSkXBJYlJmPZmZ/Wurtzite-6H_0000115.cif',\n",
       " 'data/AMCSD-data/amscd-zip-files/lLSkXBJYlJmPZmZ/Wurtzite-8H_0000089.cif',\n",
       " 'data/AMCSD-data/amscd-zip-files/lLSkXBJYlJmPZmZ/Wurtzite_0015179.cif',\n",
       " 'data/AMCSD-data/amscd-zip-files/nmClJYnNijiMdzt/Anglesite_0000665.cif',\n",
       " 'data/AMCSD-data/amscd-zip-files/nmClJYnNijiMdzt/Anglesite_0005558.cif',\n",
       " 'data/AMCSD-data/amscd-zip-files/nmClJYnNijiMdzt/Anglesite_0018845.cif',\n",
       " 'data/AMCSD-data/amscd-zip-files/nmClJYnNijiMdzt/Lanarkite_0010717.cif',\n",
       " 'data/AMCSD-data/amscd-zip-files/nmClJYnNijiMdzt/Scotlandite_0015703.cif',\n",
       " 'data/AMCSD-data/amscd-zip-files/NrEcEzwRmErqglP/CdCl2\\r_0011804.cif',\n",
       " 'data/AMCSD-data/amscd-zip-files/NrEcEzwRmErqglP/CdCl2\\r_0018174.cif',\n",
       " 'data/AMCSD-data/amscd-zip-files/pepwoZfesXmzrfF/Magnesite_0000099.cif',\n",
       " 'data/AMCSD-data/amscd-zip-files/pepwoZfesXmzrfF/Magnesite_0000389.cif',\n",
       " 'data/AMCSD-data/amscd-zip-files/pepwoZfesXmzrfF/Magnesite_0000990.cif',\n",
       " 'data/AMCSD-data/amscd-zip-files/pepwoZfesXmzrfF/Magnesite_0000991.cif',\n",
       " 'data/AMCSD-data/amscd-zip-files/pepwoZfesXmzrfF/Magnesite_0000992.cif',\n",
       " 'data/AMCSD-data/amscd-zip-files/pepwoZfesXmzrfF/Magnesite_0000993.cif',\n",
       " 'data/AMCSD-data/amscd-zip-files/pepwoZfesXmzrfF/Magnesite_0000994.cif',\n",
       " 'data/AMCSD-data/amscd-zip-files/pepwoZfesXmzrfF/Magnesite_0001905.cif',\n",
       " 'data/AMCSD-data/amscd-zip-files/pepwoZfesXmzrfF/Magnesite_0001906.cif',\n",
       " 'data/AMCSD-data/amscd-zip-files/pepwoZfesXmzrfF/Magnesite_0001907.cif',\n",
       " 'data/AMCSD-data/amscd-zip-files/pepwoZfesXmzrfF/Magnesite_0001908.cif',\n",
       " 'data/AMCSD-data/amscd-zip-files/pepwoZfesXmzrfF/Magnesite_0001909.cif',\n",
       " 'data/AMCSD-data/amscd-zip-files/pepwoZfesXmzrfF/Magnesite_0001910.cif',\n",
       " 'data/AMCSD-data/amscd-zip-files/pepwoZfesXmzrfF/Magnesite_0002899.cif',\n",
       " 'data/AMCSD-data/amscd-zip-files/pepwoZfesXmzrfF/Magnesite_0002900.cif',\n",
       " 'data/AMCSD-data/amscd-zip-files/pepwoZfesXmzrfF/Magnesite_0002901.cif',\n",
       " 'data/AMCSD-data/amscd-zip-files/pepwoZfesXmzrfF/Magnesite_0002902.cif',\n",
       " 'data/AMCSD-data/amscd-zip-files/pepwoZfesXmzrfF/Magnesite_0002903.cif',\n",
       " 'data/AMCSD-data/amscd-zip-files/pepwoZfesXmzrfF/Magnesite_0002904.cif',\n",
       " 'data/AMCSD-data/amscd-zip-files/pepwoZfesXmzrfF/Magnesite_0002905.cif',\n",
       " 'data/AMCSD-data/amscd-zip-files/pepwoZfesXmzrfF/Magnesite_0002906.cif',\n",
       " 'data/AMCSD-data/amscd-zip-files/pepwoZfesXmzrfF/Magnesite_0002907.cif',\n",
       " 'data/AMCSD-data/amscd-zip-files/pepwoZfesXmzrfF/Magnesite_0002908.cif',\n",
       " 'data/AMCSD-data/amscd-zip-files/pepwoZfesXmzrfF/Magnesite_0002909.cif',\n",
       " 'data/AMCSD-data/amscd-zip-files/pepwoZfesXmzrfF/Magnesite_0004331.cif',\n",
       " 'data/AMCSD-data/amscd-zip-files/pepwoZfesXmzrfF/Magnesite_0004347.cif',\n",
       " 'data/AMCSD-data/amscd-zip-files/pepwoZfesXmzrfF/Magnesite_0009893.cif',\n",
       " 'data/AMCSD-data/amscd-zip-files/pepwoZfesXmzrfF/Magnesite_0021223.cif',\n",
       " 'data/AMCSD-data/amscd-zip-files/RnuDfXRNplcJxdt/Cerussite_0006304.cif',\n",
       " 'data/AMCSD-data/amscd-zip-files/RnuDfXRNplcJxdt/Cerussite_0011016.cif',\n",
       " 'data/AMCSD-data/amscd-zip-files/RnuDfXRNplcJxdt/Cerussite_0017676.cif',\n",
       " 'data/AMCSD-data/amscd-zip-files/RnuDfXRNplcJxdt/Pb3O2(CO3)\\r_0014552.cif',\n",
       " 'data/AMCSD-data/amscd-zip-files/RnuDfXRNplcJxdt/Shannonite_0014550.cif',\n",
       " 'data/AMCSD-data/amscd-zip-files/TxDGYDbnRZqAlkC/Greenockite_0011540.cif',\n",
       " 'data/AMCSD-data/amscd-zip-files/TxDGYDbnRZqAlkC/Greenockite_0015177.cif',\n",
       " 'data/AMCSD-data/amscd-zip-files/TxDGYDbnRZqAlkC/Greenockite_0017955.cif',\n",
       " 'data/AMCSD-data/amscd-zip-files/TxDGYDbnRZqAlkC/Hawleyite_0000070.cif',\n",
       " 'data/AMCSD-data/amscd-zip-files/TxDGYDbnRZqAlkC/Hawleyite_0000111.cif',\n",
       " 'data/AMCSD-data/amscd-zip-files/TxDGYDbnRZqAlkC/Hawleyite_0011517.cif',\n",
       " 'data/AMCSD-data/amscd-zip-files/TxDGYDbnRZqAlkC/Hawleyite_0018113.cif',\n",
       " 'data/AMCSD-data/amscd-zip-files/TxDGYDbnRZqAlkC/Hawleyite_0018121.cif',\n",
       " 'data/AMCSD-data/amscd-zip-files/uDfEyAXviHPwEnB/Hydrocerussite_0009160.cif',\n",
       " 'data/AMCSD-data/amscd-zip-files/uDfEyAXviHPwEnB/Hydrocerussite_0010324.cif',\n",
       " 'data/AMCSD-data/amscd-zip-files/uDfEyAXviHPwEnB/Hydrocerussite_0020726.cif',\n",
       " 'data/AMCSD-data/amscd-zip-files/uDfEyAXviHPwEnB/Hydrocerussite_0020727.cif',\n",
       " 'data/AMCSD-data/amscd-zip-files/UtrvOSkWvTEhcEb/Otavite_0000103.cif',\n",
       " 'data/AMCSD-data/amscd-zip-files/UtrvOSkWvTEhcEb/Otavite_0004324.cif',\n",
       " 'data/AMCSD-data/amscd-zip-files/UtrvOSkWvTEhcEb/Otavite_0004339.cif',\n",
       " 'data/AMCSD-data/amscd-zip-files/UtrvOSkWvTEhcEb/Otavite_0018091.cif',\n",
       " 'data/AMCSD-data/amscd-zip-files/wneqqDzAycMRvpp/Barite_0000163.cif',\n",
       " 'data/AMCSD-data/amscd-zip-files/wneqqDzAycMRvpp/Barite_0000662.cif',\n",
       " 'data/AMCSD-data/amscd-zip-files/wneqqDzAycMRvpp/Barite_0005144.cif',\n",
       " 'data/AMCSD-data/amscd-zip-files/wneqqDzAycMRvpp/Barite_0005559.cif',\n",
       " 'data/AMCSD-data/amscd-zip-files/wneqqDzAycMRvpp/Baryte_0000164.cif',\n",
       " 'data/AMCSD-data/amscd-zip-files/wneqqDzAycMRvpp/Baryte_0000663.cif',\n",
       " 'data/AMCSD-data/amscd-zip-files/wneqqDzAycMRvpp/Baryte_0005145.cif',\n",
       " 'data/AMCSD-data/amscd-zip-files/wneqqDzAycMRvpp/Baryte_0005560.cif']"
      ]
     },
     "execution_count": 22,
     "metadata": {},
     "output_type": "execute_result"
    }
   ],
   "source": [
    "zip_cifs = glob('data/AMCSD-data/amscd-zip-files/**/*.cif', recursive=True)\n",
    "zip_cifs"
   ]
  },
  {
   "cell_type": "code",
   "execution_count": 23,
   "id": "345e13bb-5536-4009-8a83-1ebbdf649ab1",
   "metadata": {
    "execution": {
     "iopub.execute_input": "2025-03-26T08:46:24.569140Z",
     "iopub.status.busy": "2025-03-26T08:46:24.568874Z",
     "iopub.status.idle": "2025-03-26T08:46:24.572663Z",
     "shell.execute_reply": "2025-03-26T08:46:24.572166Z",
     "shell.execute_reply.started": "2025-03-26T08:46:24.569121Z"
    }
   },
   "outputs": [
    {
     "name": "stdout",
     "output_type": "stream",
     "text": [
      "17 data/AMCSD-data/amscd-zip-files/ELVwjmUZsrProKj/Zincite_0005203.cif\n",
      "18 data/AMCSD-data/amscd-zip-files/ELVwjmUZsrProKj/Zincite_0005204.cif\n",
      "19 data/AMCSD-data/amscd-zip-files/ELVwjmUZsrProKj/Zincite_0005205.cif\n",
      "20 data/AMCSD-data/amscd-zip-files/ELVwjmUZsrProKj/Zincite_0005206.cif\n",
      "21 data/AMCSD-data/amscd-zip-files/ELVwjmUZsrProKj/Zincite_0011555.cif\n",
      "22 data/AMCSD-data/amscd-zip-files/ELVwjmUZsrProKj/Zincite_0015176.cif\n",
      "23 data/AMCSD-data/amscd-zip-files/ELVwjmUZsrProKj/Zincite_0018119.cif\n",
      "24 data/AMCSD-data/amscd-zip-files/ELVwjmUZsrProKj/Zincite_0018120.cif\n"
     ]
    }
   ],
   "source": [
    "for i, cf in enumerate(zip_cifs): \n",
    "    if 'Zincite' in cf: \n",
    "        print(i, cf)"
   ]
  },
  {
   "cell_type": "code",
   "execution_count": 24,
   "id": "8f6f4b71-fa24-4da4-8367-d693cd02d12a",
   "metadata": {
    "execution": {
     "iopub.execute_input": "2025-03-26T08:46:46.264605Z",
     "iopub.status.busy": "2025-03-26T08:46:46.264363Z",
     "iopub.status.idle": "2025-03-26T08:46:51.874676Z",
     "shell.execute_reply": "2025-03-26T08:46:51.874159Z",
     "shell.execute_reply.started": "2025-03-26T08:46:46.264583Z"
    }
   },
   "outputs": [],
   "source": [
    "for cf in zip_cifs: \n",
    "    basename = os.path.basename(cf)\n",
    "    shutil.copy(cf, f'data/AMCSD-data/amscd-cif-files/{basename}')"
   ]
  },
  {
   "cell_type": "markdown",
   "id": "6d7d1027-7009-45c9-a1d6-c4bde49fd42a",
   "metadata": {},
   "source": [
    "## Collecting all crystal structures "
   ]
  },
  {
   "cell_type": "markdown",
   "id": "cd11413c-95fb-4452-baf4-fc4c3ddc9b4f",
   "metadata": {},
   "source": [
    "I downloaded multiple cif files for each query. Now let's pick one cif file for each crystal structure..."
   ]
  },
  {
   "cell_type": "code",
   "execution_count": 25,
   "id": "ff02d3f2-6412-4928-8b88-2bf515066926",
   "metadata": {
    "execution": {
     "iopub.execute_input": "2025-03-26T08:47:05.259978Z",
     "iopub.status.busy": "2025-03-26T08:47:05.259619Z",
     "iopub.status.idle": "2025-03-26T08:47:05.272138Z",
     "shell.execute_reply": "2025-03-26T08:47:05.271589Z",
     "shell.execute_reply.started": "2025-03-26T08:47:05.259948Z"
    }
   },
   "outputs": [
    {
     "data": {
      "text/plain": [
       "243"
      ]
     },
     "execution_count": 25,
     "metadata": {},
     "output_type": "execute_result"
    }
   ],
   "source": [
    "cif_paths = glob('data/AMCSD-data/amscd-cif-files/*.cif')\n",
    "len(cif_paths)"
   ]
  },
  {
   "cell_type": "code",
   "execution_count": 26,
   "id": "c4a59c85-0be5-45f2-8ee0-554ff65566bf",
   "metadata": {
    "execution": {
     "iopub.execute_input": "2025-03-26T08:47:14.696407Z",
     "iopub.status.busy": "2025-03-26T08:47:14.696158Z",
     "iopub.status.idle": "2025-03-26T08:47:14.701773Z",
     "shell.execute_reply": "2025-03-26T08:47:14.701241Z",
     "shell.execute_reply.started": "2025-03-26T08:47:14.696387Z"
    }
   },
   "outputs": [
    {
     "data": {
      "text/plain": [
       "['Lanarkite_0010717.cif',\n",
       " 'Pb3O2(CO3)\\r_0014552.cif',\n",
       " 'Anglesite_0000665.cif',\n",
       " 'Calcite_0000098.cif',\n",
       " 'Thenardite_0005113.cif',\n",
       " 'CadmiumOxalate_2012182.cif',\n",
       " 'Shannonite_0014550.cif',\n",
       " 'Glikinite_0020988.cif',\n",
       " 'Sphalerite_0000110.cif',\n",
       " 'Vaterite_0004854.cif',\n",
       " 'CdCl2_0011804.cif',\n",
       " 'Na2 O3 S\\r_0017434.cif',\n",
       " 'CadmiumChlorideHydrated_2106702.cif',\n",
       " 'Magnesite_0000099.cif',\n",
       " 'Sclarite_01317.cif',\n",
       " 'Hydrocerussite_0009160.cif',\n",
       " 'Pb3O2(CO3)_0014552.cif',\n",
       " 'Wurtzite-2H_0010082.cif',\n",
       " 'Huntite_0001006.cif',\n",
       " 'cadmiumHydroxyChloride_1010263.cif',\n",
       " 'Otavite_0000103.cif',\n",
       " 'Dolomite_0000086.cif',\n",
       " 'CdCl2\\r_0011804.cif',\n",
       " 'CadmiumHydroxySulphate_2107256.cif',\n",
       " 'Greenockite_0011540.cif',\n",
       " 'CadmiumSulphateMonohydrated_2241132.cif',\n",
       " 'Na2 O4 S\\r_0017433.cif',\n",
       " 'Na2 O3 S_0017434.cif',\n",
       " 'Hawleyite_0000070.cif',\n",
       " 'Baryte_0000164.cif',\n",
       " 'Zincite_0005203.cif',\n",
       " 'Wurtzite-4H_0005544.cif',\n",
       " 'Wurtzite-15R_0015414.cif',\n",
       " 'CadmiumSulphateHydroxyHydrated_1525852.cif',\n",
       " 'Na2 O4 S_0017433.cif',\n",
       " 'CadmiumSulphiteHydrated_1541695.cif',\n",
       " 'CadmiumSulphate_1533737.cif',\n",
       " 'Wurtzite-10H_0000088.cif',\n",
       " 'Scotlandite_0015703.cif',\n",
       " 'Wurtzite_0015179.cif',\n",
       " 'Zinkosite_0009208.cif',\n",
       " 'Barite_0000163.cif',\n",
       " 'Wurtzite-6H_0000115.cif',\n",
       " 'CadmiumChlorideHydrated25_2106551.cif',\n",
       " 'Cerussite_0006304.cif',\n",
       " 'Wurtzite-8H_0000089.cif',\n",
       " '(CdSO4)3(H2O)8_1010534.cif',\n",
       " 'Aragonite_0000233.cif']"
      ]
     },
     "execution_count": 26,
     "metadata": {},
     "output_type": "execute_result"
    }
   ],
   "source": [
    "cif_files = [os.path.basename(cp) for cp in cif_paths]\n",
    "\n",
    "names = [re.split('_', cf)[0] for cf in cif_files]\n",
    "unique_names = list(set(names))\n",
    "\n",
    "unique_cif_files = [cif_files[names.index(un)] for un in unique_names]\n",
    "\n",
    "unique_cif_files"
   ]
  },
  {
   "cell_type": "code",
   "execution_count": 27,
   "id": "aed23000-7034-49fa-aef6-48c077bd8e9c",
   "metadata": {
    "execution": {
     "iopub.execute_input": "2025-03-26T08:47:54.824174Z",
     "iopub.status.busy": "2025-03-26T08:47:54.823904Z",
     "iopub.status.idle": "2025-03-26T08:47:54.828238Z",
     "shell.execute_reply": "2025-03-26T08:47:54.827773Z",
     "shell.execute_reply.started": "2025-03-26T08:47:54.824153Z"
    }
   },
   "outputs": [],
   "source": [
    "unique_cif_files = ['Lanarkite_0010717.cif',\n",
    " 'Pb3O2(CO3)\\r_0014552.cif',\n",
    " 'Anglesite_0000665.cif',\n",
    " 'Calcite_0000098.cif',\n",
    " 'Thenardite_0005113.cif',\n",
    " 'CadmiumOxalate_2012182.cif',\n",
    " 'Shannonite_0014550.cif',\n",
    " 'Glikinite_0020988.cif',\n",
    " 'Sphalerite_0000110.cif',\n",
    " 'Vaterite_0004854.cif',\n",
    " 'CdCl2_0011804.cif',\n",
    " 'Na2 O3 S\\r_0017434.cif',\n",
    " 'CadmiumChlorideHydrated_2106702.cif',\n",
    " 'Magnesite_0000099.cif',\n",
    " 'Sclarite_01317.cif',\n",
    " 'Hydrocerussite_0009160.cif',\n",
    " 'Pb3O2(CO3)_0014552.cif',\n",
    " 'Wurtzite-2H_0010082.cif',\n",
    " 'Huntite_0001006.cif',\n",
    " 'cadmiumHydroxyChloride_1010263.cif',\n",
    " 'Otavite_0000103.cif',\n",
    " 'Dolomite_0000086.cif',\n",
    " 'CdCl2\\r_0011804.cif',\n",
    " 'CadmiumHydroxySulphate_2107256.cif',\n",
    " 'Greenockite_0011540.cif',\n",
    " 'CadmiumSulphateMonohydrated_2241132.cif',\n",
    " 'Na2 O4 S\\r_0017433.cif',\n",
    " 'Na2 O3 S_0017434.cif',\n",
    " 'Hawleyite_0000070.cif',\n",
    " 'Baryte_0000164.cif',\n",
    " 'Zincite_0005203.cif',\n",
    " 'Wurtzite-4H_0005544.cif',\n",
    " 'Wurtzite-15R_0015414.cif',\n",
    " 'CadmiumSulphateHydroxyHydrated_1525852.cif',\n",
    " 'Na2 O4 S_0017433.cif',\n",
    " 'CadmiumSulphiteHydrated_1541695.cif',\n",
    " 'CadmiumSulphate_1533737.cif',\n",
    " 'Wurtzite-10H_0000088.cif',\n",
    " 'Scotlandite_0015703.cif',\n",
    " 'Wurtzite_0015179.cif',\n",
    " 'Zinkosite_0009208.cif',\n",
    " 'Barite_0000163.cif',\n",
    " 'Wurtzite-6H_0000115.cif',\n",
    " 'CadmiumChlorideHydrated25_2106551.cif',\n",
    " 'Cerussite_0006304.cif',\n",
    " 'Wurtzite-8H_0000089.cif',\n",
    " '(CdSO4)3(H2O)8_1010534.cif',\n",
    " 'Aragonite_0000233.cif']"
   ]
  },
  {
   "cell_type": "code",
   "execution_count": null,
   "id": "5904e5fb-7535-4a28-b58f-3a606430cc3f",
   "metadata": {},
   "outputs": [],
   "source": []
  }
 ],
 "metadata": {
  "kernelspec": {
   "display_name": "Python 3 (ipykernel)",
   "language": "python",
   "name": "python3"
  },
  "language_info": {
   "codemirror_mode": {
    "name": "ipython",
    "version": 3
   },
   "file_extension": ".py",
   "mimetype": "text/x-python",
   "name": "python",
   "nbconvert_exporter": "python",
   "pygments_lexer": "ipython3",
   "version": "3.12.5"
  },
  "widgets": {
   "application/vnd.jupyter.widget-state+json": {
    "state": {},
    "version_major": 2,
    "version_minor": 0
   }
  }
 },
 "nbformat": 4,
 "nbformat_minor": 5
}
